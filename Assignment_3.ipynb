{
 "cells": [
  {
   "cell_type": "code",
   "execution_count": 194,
   "metadata": {},
   "outputs": [
    {
     "name": "stdout",
     "output_type": "stream",
     "text": [
      "Sum of this iteration is: 1\n",
      "Sum of this iteration is: 3\n",
      "Sum of this iteration is: 6\n",
      "Sum of this iteration is: 10\n",
      "Sum of this iteration is: 15\n",
      "After reducing the sequence, sum is: 15\n"
     ]
    }
   ],
   "source": [
    "# Answer to Question 1.1 - Myreduce() Reduces the sequence and provide a number based on calculations provided \n",
    "\n",
    "a=[1,2,3,4,5]\n",
    "\n",
    "def myReduce(a):\n",
    "    sum=0\n",
    "    for i in a:\n",
    "        sum = sum+i   \n",
    "        print (\"Sum of this iteration is:\", sum)\n",
    "    return sum\n",
    "\n",
    "total = myReduce(a)\n",
    "print(\"After reducing the sequence, sum is:\", total)"
   ]
  },
  {
   "cell_type": "code",
   "execution_count": 195,
   "metadata": {},
   "outputs": [
    {
     "name": "stdout",
     "output_type": "stream",
     "text": [
      "Even numbers post filtering are: [0, 2, 4, 6, 8]\n"
     ]
    }
   ],
   "source": [
    "# 1.2 Myfilter() --> filters an elelment from the list or sequence \n",
    "numbers = range(10)\n",
    "\n",
    "def f(x):\n",
    "  if x%2==0:\n",
    "    return True \n",
    "  else:\n",
    "    return False\n",
    "\n",
    "even = filter(f, numbers)\n",
    "\n",
    "a=[]\n",
    "for x in even:\n",
    "    a.append(x)\n",
    "print(\"Even numbers post filtering are:\", a)"
   ]
  },
  {
   "cell_type": "code",
   "execution_count": 196,
   "metadata": {},
   "outputs": [
    {
     "name": "stdout",
     "output_type": "stream",
     "text": [
      "Solution -1 is:  ['A', 'C', 'A', 'D', 'G', 'I', 'L', 'D']\n",
      "Solution -2 is:  ['A', 'C', 'A', 'D', 'G', 'I', 'L', 'D']\n"
     ]
    }
   ],
   "source": [
    "# Implement List comprehensions to produce the following lists.\n",
    "# solution for 2.1 \n",
    "## ['A', 'C', 'A', 'D', 'G', 'I', ’L’, ‘ D’]\n",
    "\n",
    "# Solution - 1: \n",
    "s =\"Acadgild\"\n",
    "s1 = s.upper()\n",
    "a=[]\n",
    "for i in s1:\n",
    "    a.append(i)\n",
    "print(\"Solution -1 is: \", a)\n",
    "\n",
    "# Solution-2 :\n",
    "s2 = \"ACADGILD\"\n",
    "print(\"Solution -2 is: \", list(s2))"
   ]
  },
  {
   "cell_type": "code",
   "execution_count": 197,
   "metadata": {},
   "outputs": [
    {
     "name": "stdout",
     "output_type": "stream",
     "text": [
      "### Solution: 1 ### \n",
      "['x', 'xx', 'xxx', 'xxxx', 'y', 'yy', 'yyy', 'yyyy', 'z', 'zz', 'zzz', 'zzzz']\n",
      "### Solution: 2 ###\n",
      "['x', 'xx', 'xxx', 'xxxx', 'y', 'yy', 'yyy', 'yyyy', 'z', 'zz', 'zzz', 'zzzz']\n"
     ]
    }
   ],
   "source": [
    "# Implement List comprehensions to produce the following lists.\n",
    "# solution for 2.2\n",
    "## ['x', 'xx', 'xxx', 'xxxx', 'y', 'yy', 'yyy', 'yyyy', 'z', 'zz', 'zzz', 'zzzz']\n",
    "\n",
    "list1=[]\n",
    "def myList(t):\n",
    "    l=[]\n",
    "    n = range(1,5)\n",
    "    for i in n:\n",
    "        s=t*i\n",
    "        l.append(s)\n",
    "    return(l)\n",
    "\n",
    "list1=myList('x')\n",
    "list2=myList('y')\n",
    "list3=myList('z')\n",
    "#print(list1)\n",
    "#print(list2)\n",
    "#print(list3)\n",
    "\n",
    "# Final list to append all lists\n",
    "print(\"### Solution: 1 ### \") \n",
    "finalList=list1+list2+list3\n",
    "print(finalList)\n",
    "\n",
    "# option -2 \n",
    "print(\"### Solution: 2 ###\")\n",
    "list4=[]\n",
    "list4.extend(list1)\n",
    "list4.extend(list2)\n",
    "list4.extend(list3)\n",
    "print(list4)"
   ]
  },
  {
   "cell_type": "code",
   "execution_count": 198,
   "metadata": {},
   "outputs": [
    {
     "name": "stdout",
     "output_type": "stream",
     "text": [
      "output for final list is ['x', 'y', 'z', 'xx', 'yy', 'zz', 'xxx', 'yyy', 'zzz', 'xxxx', 'yyyy', 'zzzz']\n"
     ]
    }
   ],
   "source": [
    "# Implement List comprehensions to produce the following lists.\n",
    "# solution for 2.3\n",
    "## Solution for ['x', 'y', 'z', 'xx', 'yy', 'zz', 'xxx', 'yyy', 'zzz', 'xxxx', 'yyyy', 'zzzz']\n",
    "\n",
    "list1=['x','y','z']\n",
    "list2=['xx','yy','zz']\n",
    "list3=['xxx','yyy','zzz']\n",
    "list4=['xxxx','yyyy','zzzz']\n",
    "\n",
    "list5=list1+list2+list3+list4\n",
    "print(\"output for final list is\",list5)"
   ]
  },
  {
   "cell_type": "code",
   "execution_count": 199,
   "metadata": {},
   "outputs": [
    {
     "name": "stdout",
     "output_type": "stream",
     "text": [
      "Final result is : [[2], [3], [4], [3], [4], [5], [4], [5], [6]]\n"
     ]
    }
   ],
   "source": [
    "# Implement List comprehensions to produce the following lists.\n",
    "# solution for 2.4\n",
    "# solution for [[2], [3], [4], [3], [4], [5], [4], [5], [6]]\n",
    "\n",
    "l1=[[2],[3],[4]]\n",
    "l2=[[3],[4],[5]]\n",
    "l3=[[4],[5],[6]]\n",
    "l=l1+l2+l3\n",
    "print(\"Final result is :\", l)"
   ]
  },
  {
   "cell_type": "code",
   "execution_count": 200,
   "metadata": {},
   "outputs": [
    {
     "name": "stdout",
     "output_type": "stream",
     "text": [
      "[[2, 3, 4, 5], [3, 4, 5, 6], [4, 5, 6, 7], [5, 6, 7, 8]]\n"
     ]
    }
   ],
   "source": [
    "# Implement List comprehensions to produce the following lists.\n",
    "# solution for 2.5\n",
    "# Solution for [[2, 3, 4, 5], [3, 4, 5, 6], [4, 5, 6, 7], [5, 6, 7, 8]]\n",
    "\n",
    "def listFunc(i,j):\n",
    "    l1=range(i,j)\n",
    "    l=[]\n",
    "    for x in l1:\n",
    "        l.append(x)\n",
    "    return(l)\n",
    "\n",
    "list1=listFunc(2,6)\n",
    "#print(list1)\n",
    "list2=listFunc(3,7)\n",
    "#print(list2)\n",
    "list3=listFunc(4,8)\n",
    "#print(list3)\n",
    "list4=listFunc(5,9)\n",
    "#print(list4)\n",
    "\n",
    "list6=[]\n",
    "list6.append(list1)\n",
    "list6.append(list2)\n",
    "list6.append(list3)\n",
    "list6.append(list4)\n",
    "print(list6)"
   ]
  },
  {
   "cell_type": "code",
   "execution_count": 201,
   "metadata": {},
   "outputs": [
    {
     "name": "stdout",
     "output_type": "stream",
     "text": [
      "Added multiple tuples to List and displayed as tuble: \n",
      " [(1, 1), (2, 1), (3, 1), (1, 2), (2, 2), (3, 2), (1, 3), (2, 3), (3, 3)]\n"
     ]
    }
   ],
   "source": [
    "# Implement List comprehensions to produce the following lists.\n",
    "# solution for 2.6\n",
    "# Solution for [(1, 1), (2, 1), (3, 1), (1, 2), (2, 2), (3, 2), (1, 3), (2, 3), (3, 3)]\n",
    "\n",
    "a=[]\n",
    "a.append(tuple([1, 1]))\n",
    "a.append(tuple([2, 1]))\n",
    "a.append(tuple([3, 1]))\n",
    "a.append(tuple([1, 2]))\n",
    "a.append(tuple([2, 2]))\n",
    "a.append(tuple([3, 2]))\n",
    "a.append(tuple([1, 3]))\n",
    "a.append(tuple([2, 3]))\n",
    "a.append(tuple([3, 3]))\n",
    "print(\"Added multiple tuples to List and displayed as tuble: \\n\",a_list)"
   ]
  },
  {
   "cell_type": "code",
   "execution_count": 202,
   "metadata": {},
   "outputs": [
    {
     "name": "stdout",
     "output_type": "stream",
     "text": [
      "The logest word in the list is: Rajanikanth\n"
     ]
    }
   ],
   "source": [
    "# Implement a function longestWord() that takes a list of words and returns the longest one.\n",
    "word=[\"This\", \"is\",\"longest\",\"word\",\"Rajanikanth\"]\n",
    "\n",
    "def longestWord(word):\n",
    "    longest=\"\"\n",
    "    for i in word:\n",
    "        if (len(longest)<len(i)):\n",
    "            longest=i\n",
    "    return longest\n",
    "    \n",
    "result= longestWord(word)\n",
    "print(\"The logest word in the list is:\",result)"
   ]
  },
  {
   "cell_type": "code",
   "execution_count": null,
   "metadata": {},
   "outputs": [],
   "source": []
  }
 ],
 "metadata": {
  "kernelspec": {
   "display_name": "Python 3",
   "language": "python",
   "name": "python3"
  },
  "language_info": {
   "codemirror_mode": {
    "name": "ipython",
    "version": 3
   },
   "file_extension": ".py",
   "mimetype": "text/x-python",
   "name": "python",
   "nbconvert_exporter": "python",
   "pygments_lexer": "ipython3",
   "version": "3.6.5"
  }
 },
 "nbformat": 4,
 "nbformat_minor": 2
}
